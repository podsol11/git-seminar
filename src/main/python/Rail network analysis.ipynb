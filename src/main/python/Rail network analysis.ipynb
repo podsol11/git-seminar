{
 "cells": [
  {
   "cell_type": "markdown",
   "metadata": {},
   "source": [
    "# Rail network analysis"
   ]
  },
  {
   "cell_type": "code",
   "execution_count": 1,
   "metadata": {},
   "outputs": [],
   "source": [
    "import collections\n",
    "import dataclasses\n",
    "import itertools\n",
    "import json\n",
    "import typing\n",
    "\n",
    "from dataclasses import dataclass"
   ]
  },
  {
   "cell_type": "markdown",
   "metadata": {},
   "source": [
    "The following sets contain all known Mittelzentren and Oberzentren. We will annotate stations and train lines with this information."
   ]
  },
  {
   "cell_type": "code",
   "execution_count": 2,
   "metadata": {},
   "outputs": [],
   "source": [
    "oberzentren = {\"Dresden\", \"Leipzig\", \"Chemnitz\", \"Plauen\", \"Zwickau\", \"Bautzen\", \"Görlitz\", \"Hoyerswerda\"}\n",
    "mittelzentren = {\"Annaberg-Buchholz\", \"Borna\", \"Coswig\", \"Crimmitschau\", \"Delitzsch\", \"Dippoldiswalde\", \"Döbeln\",\n",
    "                 \"Eilenburg\", \"Freiberg\",\"Freital\", \"Glauchau\", \"Grimma\", \"Großenhain\", \"Kamenz\", \"Limbach-Oberfrohna\",\n",
    "                 \"Löbau\", \"Marienberg\", \"Markkleeberg\", \"Meißen\", \"Mittweida\", \"Niesky\", \"Oelsnitz\", \"Oschatz\", \"Pirna\",\n",
    "                 \"Radeberg\", \"Radebeul\", \"Reichenbach\", \"Riesa\", \"Schkeuditz\", \"Stollberg\", \"Torgau\", \"Weißwasser\",\n",
    "                 \"Werdau\", \"Wurzen\", \"Zittau\", \"Auerbach\", \"Ellefeld\", \"Falkenstein\", \"Rodewisch\", \"Hohenstein-Ernstthal\",\n",
    "                 \"Lichtenstein\", \"Oberlungwitz\", \"Aue\", \"Bad Schlema\", \"Lauter-Bernsbach\", \"Lößnitz\", \"Schneeberg\",\n",
    "                 \"Schwarzenberg\"}"
   ]
  },
  {
   "cell_type": "markdown",
   "metadata": {},
   "source": [
    "Load in our data"
   ]
  },
  {
   "cell_type": "code",
   "execution_count": 3,
   "metadata": {},
   "outputs": [
    {
     "data": {
      "text/plain": [
       "{'train_type': 'VBG',\n",
       " 'extracted_from': 'Adorf(Vogtl)',\n",
       " 'line': 'RB4',\n",
       " 'route_normalized': ['Adorf(Vogtl)',\n",
       "  'Hundsgrün',\n",
       "  'Oelsnitz(Vogtl)',\n",
       "  'Pirk',\n",
       "  'Weischlitz',\n",
       "  'Kürbitz',\n",
       "  'Plauen(Vogtl) Mitte',\n",
       "  'Barthmühle',\n",
       "  'Rentzschmühle',\n",
       "  'Elsterberg-Kunstseidenwerk',\n",
       "  'Elsterberg',\n",
       "  'Greiz-Dölau',\n",
       "  'Greiz',\n",
       "  'Neumühle(Elster)',\n",
       "  'Berga(Elster)',\n",
       "  'Wünschendorf',\n",
       "  'Gera-Zwötzen',\n",
       "  'Gera Süd',\n",
       "  'Gera Hbf']}"
      ]
     },
     "execution_count": 3,
     "metadata": {},
     "output_type": "execute_result"
    }
   ],
   "source": [
    "trainlines_file = open(\"timetables/timetables.json\", \"r\")\n",
    "trainlines = json.load(trainlines_file)[\"data\"]\n",
    "trainlines_file.close()\n",
    "trainlines[0]"
   ]
  },
  {
   "cell_type": "markdown",
   "metadata": {},
   "source": [
    "We have to capture different train lines in some canonical form to allow for convenient access and ensure comparability. This is exactly, what `line_name` does for us. In addition, it also allows us to generate unique identifiers for those lines, which did not get one in the Bahn API."
   ]
  },
  {
   "cell_type": "code",
   "execution_count": 4,
   "metadata": {},
   "outputs": [],
   "source": [
    "train_number_generator = collections.defaultdict(int) # int() returns 0\n",
    "\n",
    "def line_name(line_data, generate=True):\n",
    "    if line_data[\"line\"] is None and generate:\n",
    "        train_number_generator[line_data[\"train_type\"]] += 1\n",
    "        generated_number = train_number_generator[line_data[\"train_type\"]]\n",
    "        line_data[\"line\"] = str(generated_number)\n",
    "    elif line_data[\"line\"] is None:\n",
    "        return line_data[\"train_type\"]\n",
    "    elif line_data[\"line\"] == \"SEV\" and generate:\n",
    "        train_number_generator[\"SEV\"] += 1\n",
    "        generated_number = train_number_generator[\"SEV\"]\n",
    "        line_data[\"line\"] = \"SEV\" + str(generated_number)\n",
    "    \n",
    "    if any(line_data[\"line\"].startswith(prefix) for prefix in [\"S\", \"RE\", \"RB\", \"C\"]):\n",
    "        return line_data[\"line\"]\n",
    "\n",
    "    return line_data[\"train_type\"] + line_data[\"line\"]"
   ]
  },
  {
   "cell_type": "code",
   "execution_count": 5,
   "metadata": {},
   "outputs": [],
   "source": [
    "@dataclass\n",
    "class Trainstation:\n",
    "    name: str\n",
    "    oberzentrum: bool = False\n",
    "    mittelzentrum: bool = False\n",
    "    changes_to_oberzentrum: int = 0 \n",
    "    changes_to_mittelzentrum: int = 0\n",
    "    connected_to_oberzentrum: bool = False\n",
    "    connected_to_mittelzentrum: bool = False\n",
    "    \n",
    "        \n",
    "    def __hash__(self):\n",
    "        return hash(self.name)\n",
    "    \n",
    "    def __eq__(self, other):\n",
    "        return self.name == other.name"
   ]
  },
  {
   "cell_type": "markdown",
   "metadata": {},
   "source": [
    "Next, we will build up two data structures at once:\n",
    "- first up, we create a set of all train stations and annotated each station by whether it is a Mittelzentrum, or even an Oberzentrum\n",
    "- secondly, we store each train line in a more convenient data structure which enables access to a certain line directly through its name. At the same time we annotate each line by whether it passes a Mittelzentrum, or even an Oberzentrum"
   ]
  },
  {
   "cell_type": "code",
   "execution_count": 6,
   "metadata": {},
   "outputs": [],
   "source": [
    "stations = {}\n",
    "lines = {}\n",
    "\n",
    "for train in trainlines:  \n",
    "    has_mittelzentrum_stop = False # stores whether the line passed at least one Mittelzentrum\n",
    "    has_oberzentrum_stop = False # stores whether the line passed at least one Oberzentrum\n",
    "    \n",
    "    for stop in train[\"route_normalized\"]:\n",
    "        station = Trainstation(stop)\n",
    "        \n",
    "        # check if the current stop is a known Mittelzentrum or Oberzentrum\n",
    "        mittelzentrum_stop = any(stop.startswith(mz) for mz in mittelzentren)\n",
    "        oberzentrum_stop = any(stop.startswith(oz) for oz in oberzentren)\n",
    "        \n",
    "        station.mittelzentrum = mittelzentrum_stop or oberzentrum_stop\n",
    "        station.oberzentrum = oberzentrum_stop\n",
    "        station.connected_to_mittelzentrum = station.mittelzentrum\n",
    "        station.connected_to_oberzentrum = station.oberzentrum\n",
    "        \n",
    "        # update our train line information\n",
    "        has_mittelzentrum_stop = has_mittelzentrum_stop or mittelzentrum_stop\n",
    "        has_oberzentrum_stop = has_oberzentrum_stop or oberzentrum_stop\n",
    "        \n",
    "        stations[stop] = station\n",
    "    \n",
    "    # store the extended line/route information\n",
    "    train[\"name_normalized\"] = line_name(train, generate=True)\n",
    "    train[\"mittelzentrum_stop\"] = has_mittelzentrum_stop or has_oberzentrum_stop\n",
    "    train[\"oberzentrum_stop\"] = has_oberzentrum_stop\n",
    "    lines[train[\"name_normalized\"]] = train"
   ]
  },
  {
   "cell_type": "markdown",
   "metadata": {},
   "source": [
    "To enable quick and convenient access to connections between different stations, we store the whole train line network in a graph structure. Each edge will be annotated by the train lines passing through the edge."
   ]
  },
  {
   "cell_type": "code",
   "execution_count": 7,
   "metadata": {},
   "outputs": [],
   "source": [
    "Connection = collections.namedtuple(\"Connection\", [\"station\", \"line\"])\n",
    "\n",
    "@dataclass\n",
    "class Graph:\n",
    "    nodes: typing.Set[str] = dataclasses.field(default_factory=set)\n",
    "    edges: typing.Dict[str, typing.Set[Connection]] = dataclasses.field(default_factory=lambda: collections.defaultdict(set))\n",
    "        \n",
    "    def add_edge(self, a, b, line):\n",
    "        if not a in self.nodes:\n",
    "            self.nodes.add(a)\n",
    "        if not b in self.nodes:\n",
    "            self.nodes.add(b)\n",
    "            \n",
    "        self.edges[a].add(Connection(b, line))\n",
    "        self.edges[b].add(Connection(a, line))"
   ]
  },
  {
   "cell_type": "markdown",
   "metadata": {},
   "source": [
    "Build the train line graph"
   ]
  },
  {
   "cell_type": "code",
   "execution_count": 8,
   "metadata": {},
   "outputs": [],
   "source": [
    "network = Graph()\n",
    "\n",
    "for train in trainlines:   \n",
    "    # We contruct the graph using a sliding window through the routes. This enables us to capture all local connections.\n",
    "    window_size = 2\n",
    "    last_window_idx = len(train[\"route_normalized\"]) - window_size + 1\n",
    "    for stop_idx in range(last_window_idx):\n",
    "        connection = train[\"route_normalized\"][stop_idx : stop_idx+window_size]\n",
    "        start, stop = connection\n",
    "        network.add_edge(start, stop, line_name(train))"
   ]
  },
  {
   "cell_type": "code",
   "execution_count": 9,
   "metadata": {},
   "outputs": [
    {
     "data": {
      "text/plain": [
       "['Dresden-Stetzsch',\n",
       " 'Dresden-Reick',\n",
       " 'Dresden-Trachau',\n",
       " 'Dresden Flughafen',\n",
       " 'Dresden Hbf (Strehlener Str.)',\n",
       " 'Dresden-Stetzsch Am Urnenfeld',\n",
       " 'Dresden Grenzstraße',\n",
       " 'Dresden-Strehlen',\n",
       " 'Dresden Industriegelände',\n",
       " 'Dresden-Kemnitz Flensburger Straße']"
      ]
     },
     "execution_count": 9,
     "metadata": {},
     "output_type": "execute_result"
    }
   ],
   "source": [
    "[n for n in network.nodes if n.startswith(\"Dresden\")][:10]"
   ]
  },
  {
   "cell_type": "code",
   "execution_count": 10,
   "metadata": {},
   "outputs": [
    {
     "data": {
      "text/plain": [
       "[Connection(station='Dresden-Friedrichstadt', line='RB31'),\n",
       " Connection(station='Dresden Mitte', line='S1'),\n",
       " Connection(station='Dresden-Neustadt', line='RJ2'),\n",
       " Connection(station='Bad Schandau', line='EC2'),\n",
       " Connection(station='Dresden Mitte', line='RE15')]"
      ]
     },
     "execution_count": 10,
     "metadata": {},
     "output_type": "execute_result"
    }
   ],
   "source": [
    "list(network.edges[\"Dresden Hbf\"])[:5]"
   ]
  },
  {
   "cell_type": "markdown",
   "metadata": {},
   "source": [
    "Now we have all the data we need: for each station we know whether it is an Oberzentrum (or Mittelzentrum) or not. For each train route, we know whether it passes through one of these stations. And for each station we know where we can go from there. This enables us, to calculate how many stops we need to reach the next Oberzentrum (Mittelzentrum) for each station in an efficient manner.\n",
    "\n",
    "But, in order to do so, we build another, more elaborated data structure: the train line graph.\n",
    "This graph however, is not the canonical modelling of train lines (i.e. stations become nodes and edges indicate a connection). Instead, the train lines themselves become the nodes of the graph and an edge from line A to line B indicates that they share a common station, i.e. it is possible to change from one route to the other."
   ]
  },
  {
   "cell_type": "code",
   "execution_count": 11,
   "metadata": {},
   "outputs": [],
   "source": [
    "@dataclass\n",
    "class LineInfo:\n",
    "    line: str\n",
    "    connected_to_oberzentrum: bool = False\n",
    "    changes_to_oberzentrum: bool = -1\n",
    "\n",
    "@dataclass\n",
    "class LineGraph:\n",
    "    nodes: typing.Dict[str, LineInfo] = dataclasses.field(default_factory=dict)\n",
    "    edges: typing.Dict[str, typing.Set[str]] = dataclasses.field(default_factory=lambda: collections.defaultdict(set))\n",
    "        \n",
    "    def add_edge(self, a, b):\n",
    "        if not a in self.nodes:\n",
    "            self.nodes[a] = LineInfo(a)\n",
    "        if not b in self.nodes:\n",
    "            self.nodes[b] = LineInfo(b)\n",
    "            \n",
    "        self.edges[a].add(b)\n",
    "        self.edges[b].add(a)\n",
    "        \n",
    "        \n",
    "    def __getitem__(self, key):\n",
    "        return self.nodes[key]\n",
    "\n",
    "line_graph = LineGraph()"
   ]
  },
  {
   "cell_type": "markdown",
   "metadata": {},
   "source": [
    "This line graph will now be filled with our network data. In the end, the graph will allow us to find out how many stops we need for each station quite conveniently."
   ]
  },
  {
   "cell_type": "code",
   "execution_count": 12,
   "metadata": {},
   "outputs": [],
   "source": [
    "for station in stations.values():\n",
    "    connections = network.edges[station.name]\n",
    "    for intersect in itertools.combinations(connections, 2):\n",
    "        line_a, line_b = intersect\n",
    "        line_graph.add_edge(line_a.line, line_b.line)"
   ]
  },
  {
   "cell_type": "markdown",
   "metadata": {},
   "source": [
    "We start our analysis with exactly those stations, that happen to pass an Oberzentrum."
   ]
  },
  {
   "cell_type": "code",
   "execution_count": 13,
   "metadata": {},
   "outputs": [
    {
     "data": {
      "text/plain": [
       "{'C11',\n",
       " 'C13',\n",
       " 'C14',\n",
       " 'C15',\n",
       " 'EC1',\n",
       " 'EC2',\n",
       " 'FLX35',\n",
       " 'IC1',\n",
       " 'IC10',\n",
       " 'IC11',\n",
       " 'IC12',\n",
       " 'IC13',\n",
       " 'IC14',\n",
       " 'IC15',\n",
       " 'IC16',\n",
       " 'IC17',\n",
       " 'IC18',\n",
       " 'IC19',\n",
       " 'IC2',\n",
       " 'IC20',\n",
       " 'IC21',\n",
       " 'IC22',\n",
       " 'IC23',\n",
       " 'IC3',\n",
       " 'IC4',\n",
       " 'IC5',\n",
       " 'IC6',\n",
       " 'IC7',\n",
       " 'IC8',\n",
       " 'IC9',\n",
       " 'ICE1',\n",
       " 'ICE10',\n",
       " 'ICE11',\n",
       " 'ICE12',\n",
       " 'ICE13',\n",
       " 'ICE14',\n",
       " 'ICE15',\n",
       " 'ICE16',\n",
       " 'ICE17',\n",
       " 'ICE18',\n",
       " 'ICE19',\n",
       " 'ICE2',\n",
       " 'ICE20',\n",
       " 'ICE21',\n",
       " 'ICE22',\n",
       " 'ICE23',\n",
       " 'ICE3',\n",
       " 'ICE4',\n",
       " 'ICE5',\n",
       " 'ICE6',\n",
       " 'ICE7',\n",
       " 'ICE8',\n",
       " 'ICE9',\n",
       " 'KD1',\n",
       " 'KD2',\n",
       " 'KD3',\n",
       " 'R1',\n",
       " 'RB1',\n",
       " 'RB110',\n",
       " 'RB113',\n",
       " 'RB13',\n",
       " 'RB2',\n",
       " 'RB20',\n",
       " 'RB22',\n",
       " 'RB30',\n",
       " 'RB31',\n",
       " 'RB33',\n",
       " 'RB34',\n",
       " 'RB4',\n",
       " 'RB45',\n",
       " 'RB5',\n",
       " 'RB60',\n",
       " 'RB61',\n",
       " 'RB64',\n",
       " 'RB65',\n",
       " 'RB80',\n",
       " 'RB81',\n",
       " 'RB95',\n",
       " 'RE1',\n",
       " 'RE10',\n",
       " 'RE12',\n",
       " 'RE13',\n",
       " 'RE15',\n",
       " 'RE17',\n",
       " 'RE18',\n",
       " 'RE2',\n",
       " 'RE3',\n",
       " 'RE42',\n",
       " 'RE50',\n",
       " 'RE6',\n",
       " 'RJ1',\n",
       " 'RJ2',\n",
       " 'S1',\n",
       " 'S2',\n",
       " 'S3',\n",
       " 'S4',\n",
       " 'S5',\n",
       " 'S5X',\n",
       " 'S6',\n",
       " 'SEV1',\n",
       " 'SEV10',\n",
       " 'SEV11',\n",
       " 'SEV2',\n",
       " 'SEV21',\n",
       " 'SEV22',\n",
       " 'SEV23',\n",
       " 'SEV4',\n",
       " 'SEV5',\n",
       " 'SEV6',\n",
       " 'SEV7',\n",
       " 'SEV8'}"
      ]
     },
     "execution_count": 13,
     "metadata": {},
     "output_type": "execute_result"
    }
   ],
   "source": [
    "oberzentrum_stations = [s for s in stations.values() if s.oberzentrum]\n",
    "oberzentrum_lines = set()\n",
    "for station in oberzentrum_stations:\n",
    "    oberzentrum_lines |= set(line.line for line in network.edges[station.name])\n",
    "oberzentrum_lines"
   ]
  },
  {
   "cell_type": "markdown",
   "metadata": {},
   "source": [
    "Now that we now the \"good lines\", we are ready to calculate the number of changes required for all other lines, using a breath-first style enumeration. To do so, we need to calculate the initial frontier, i.e. the lines which are directly available to us once we sit in a \"good line\"."
   ]
  },
  {
   "cell_type": "code",
   "execution_count": 14,
   "metadata": {},
   "outputs": [
    {
     "data": {
      "text/plain": [
       "{'BusU28',\n",
       " 'CB37',\n",
       " 'CB92',\n",
       " 'RB71',\n",
       " 'RB72',\n",
       " 'RBU28',\n",
       " 'S9',\n",
       " 'SDG1',\n",
       " 'SDG2',\n",
       " 'SDG3',\n",
       " 'SDG4',\n",
       " 'SDG5',\n",
       " 'SEV12',\n",
       " 'SEV13',\n",
       " 'SEV14',\n",
       " 'SEV15',\n",
       " 'SEV16',\n",
       " 'SEV17',\n",
       " 'SEV18',\n",
       " 'SEV19',\n",
       " 'SEV20',\n",
       " 'SEV25',\n",
       " 'SEV3',\n",
       " 'SEV9',\n",
       " 'SOE1',\n",
       " 'SOE2',\n",
       " 'TLL7'}"
      ]
     },
     "execution_count": 14,
     "metadata": {},
     "output_type": "execute_result"
    }
   ],
   "source": [
    "oberzentrum_connections = set()\n",
    "for line in oberzentrum_lines:\n",
    "    line_graph[line].connected_to_oberzentrum = True\n",
    "    line_graph[line].changes_to_oberzentrum = 0\n",
    "    oberzentrum_connections |= line_graph.edges[line]\n",
    "oberzentrum_connections -= oberzentrum_lines\n",
    "oberzentrum_connections"
   ]
  },
  {
   "cell_type": "markdown",
   "metadata": {},
   "source": [
    "Frontier and search space are set, so we may now finally start the iterations."
   ]
  },
  {
   "cell_type": "code",
   "execution_count": 15,
   "metadata": {},
   "outputs": [],
   "source": [
    "# connected lines are the lines we have already seen and therefore do not need to check again\n",
    "connected_lines = oberzentrum_lines.copy()\n",
    "\n",
    "# directly adjacent lines to the good lines become the first frontier\n",
    "frontier = oberzentrum_connections\n",
    "\n",
    "# we need to change at least once to reach a good line\n",
    "changes = 1\n",
    "\n",
    "while frontier:\n",
    "    next_frontier = set()\n",
    "    \n",
    "    for line in frontier:\n",
    "        line_graph[line].connected_to_oberzentrum = True\n",
    "        line_graph[line].changes_to_oberzentrum = changes\n",
    "        next_frontier |= line_graph.edges[line]\n",
    "    \n",
    "    connected_lines |= frontier\n",
    "    next_frontier -= connected_lines\n",
    "    \n",
    "    changes += 1\n",
    "    frontier = next_frontier"
   ]
  },
  {
   "cell_type": "markdown",
   "metadata": {},
   "source": [
    "And this is our result set:"
   ]
  },
  {
   "cell_type": "code",
   "execution_count": 16,
   "metadata": {},
   "outputs": [
    {
     "data": {
      "text/plain": [
       "{'RB2': LineInfo(line='RB2', connected_to_oberzentrum=True, changes_to_oberzentrum=0),\n",
       " 'RB4': LineInfo(line='RB4', connected_to_oberzentrum=True, changes_to_oberzentrum=0),\n",
       " 'RB22': LineInfo(line='RB22', connected_to_oberzentrum=True, changes_to_oberzentrum=0),\n",
       " 'RB13': LineInfo(line='RB13', connected_to_oberzentrum=True, changes_to_oberzentrum=0),\n",
       " 'RE13': LineInfo(line='RE13', connected_to_oberzentrum=True, changes_to_oberzentrum=0),\n",
       " 'RE12': LineInfo(line='RE12', connected_to_oberzentrum=True, changes_to_oberzentrum=0),\n",
       " 'RE1': LineInfo(line='RE1', connected_to_oberzentrum=True, changes_to_oberzentrum=0),\n",
       " 'RB5': LineInfo(line='RB5', connected_to_oberzentrum=True, changes_to_oberzentrum=0),\n",
       " 'RE3': LineInfo(line='RE3', connected_to_oberzentrum=True, changes_to_oberzentrum=0),\n",
       " 'SEV10': LineInfo(line='SEV10', connected_to_oberzentrum=True, changes_to_oberzentrum=0),\n",
       " 'SEV23': LineInfo(line='SEV23', connected_to_oberzentrum=True, changes_to_oberzentrum=0),\n",
       " 'S5X': LineInfo(line='S5X', connected_to_oberzentrum=True, changes_to_oberzentrum=0),\n",
       " 'S5': LineInfo(line='S5', connected_to_oberzentrum=True, changes_to_oberzentrum=0),\n",
       " 'SEV22': LineInfo(line='SEV22', connected_to_oberzentrum=True, changes_to_oberzentrum=0),\n",
       " 'RB1': LineInfo(line='RB1', connected_to_oberzentrum=True, changes_to_oberzentrum=0),\n",
       " 'RB30': LineInfo(line='RB30', connected_to_oberzentrum=True, changes_to_oberzentrum=0),\n",
       " 'RB95': LineInfo(line='RB95', connected_to_oberzentrum=True, changes_to_oberzentrum=0),\n",
       " 'CB37': LineInfo(line='CB37', connected_to_oberzentrum=True, changes_to_oberzentrum=1),\n",
       " 'S6': LineInfo(line='S6', connected_to_oberzentrum=True, changes_to_oberzentrum=0),\n",
       " 'S4': LineInfo(line='S4', connected_to_oberzentrum=True, changes_to_oberzentrum=0),\n",
       " 'S3': LineInfo(line='S3', connected_to_oberzentrum=True, changes_to_oberzentrum=0),\n",
       " 'S1': LineInfo(line='S1', connected_to_oberzentrum=True, changes_to_oberzentrum=0),\n",
       " 'S2': LineInfo(line='S2', connected_to_oberzentrum=True, changes_to_oberzentrum=0),\n",
       " 'IC18': LineInfo(line='IC18', connected_to_oberzentrum=True, changes_to_oberzentrum=0),\n",
       " 'IC8': LineInfo(line='IC8', connected_to_oberzentrum=True, changes_to_oberzentrum=0),\n",
       " 'IC14': LineInfo(line='IC14', connected_to_oberzentrum=True, changes_to_oberzentrum=0),\n",
       " 'IC11': LineInfo(line='IC11', connected_to_oberzentrum=True, changes_to_oberzentrum=0),\n",
       " 'IC5': LineInfo(line='IC5', connected_to_oberzentrum=True, changes_to_oberzentrum=0),\n",
       " 'IC9': LineInfo(line='IC9', connected_to_oberzentrum=True, changes_to_oberzentrum=0),\n",
       " 'IC6': LineInfo(line='IC6', connected_to_oberzentrum=True, changes_to_oberzentrum=0),\n",
       " 'IC10': LineInfo(line='IC10', connected_to_oberzentrum=True, changes_to_oberzentrum=0),\n",
       " 'S9': LineInfo(line='S9', connected_to_oberzentrum=True, changes_to_oberzentrum=1),\n",
       " 'IC19': LineInfo(line='IC19', connected_to_oberzentrum=True, changes_to_oberzentrum=0),\n",
       " 'IC21': LineInfo(line='IC21', connected_to_oberzentrum=True, changes_to_oberzentrum=0),\n",
       " 'IC20': LineInfo(line='IC20', connected_to_oberzentrum=True, changes_to_oberzentrum=0),\n",
       " 'IC12': LineInfo(line='IC12', connected_to_oberzentrum=True, changes_to_oberzentrum=0),\n",
       " 'IC15': LineInfo(line='IC15', connected_to_oberzentrum=True, changes_to_oberzentrum=0),\n",
       " 'IC13': LineInfo(line='IC13', connected_to_oberzentrum=True, changes_to_oberzentrum=0),\n",
       " 'RB80': LineInfo(line='RB80', connected_to_oberzentrum=True, changes_to_oberzentrum=0),\n",
       " 'RB81': LineInfo(line='RB81', connected_to_oberzentrum=True, changes_to_oberzentrum=0),\n",
       " 'C15': LineInfo(line='C15', connected_to_oberzentrum=True, changes_to_oberzentrum=0),\n",
       " 'RB45': LineInfo(line='RB45', connected_to_oberzentrum=True, changes_to_oberzentrum=0),\n",
       " 'RE6': LineInfo(line='RE6', connected_to_oberzentrum=True, changes_to_oberzentrum=0),\n",
       " 'C13': LineInfo(line='C13', connected_to_oberzentrum=True, changes_to_oberzentrum=0),\n",
       " 'C14': LineInfo(line='C14', connected_to_oberzentrum=True, changes_to_oberzentrum=0),\n",
       " 'EC1': LineInfo(line='EC1', connected_to_oberzentrum=True, changes_to_oberzentrum=0),\n",
       " 'RJ2': LineInfo(line='RJ2', connected_to_oberzentrum=True, changes_to_oberzentrum=0),\n",
       " 'EC2': LineInfo(line='EC2', connected_to_oberzentrum=True, changes_to_oberzentrum=0),\n",
       " 'RBU28': LineInfo(line='RBU28', connected_to_oberzentrum=True, changes_to_oberzentrum=1),\n",
       " 'RJ1': LineInfo(line='RJ1', connected_to_oberzentrum=True, changes_to_oberzentrum=0),\n",
       " 'BusU28': LineInfo(line='BusU28', connected_to_oberzentrum=True, changes_to_oberzentrum=1),\n",
       " 'RB71': LineInfo(line='RB71', connected_to_oberzentrum=True, changes_to_oberzentrum=1),\n",
       " 'SEV9': LineInfo(line='SEV9', connected_to_oberzentrum=True, changes_to_oberzentrum=1),\n",
       " 'RB72': LineInfo(line='RB72', connected_to_oberzentrum=True, changes_to_oberzentrum=1),\n",
       " 'RB31': LineInfo(line='RB31', connected_to_oberzentrum=True, changes_to_oberzentrum=0),\n",
       " 'RE15': LineInfo(line='RE15', connected_to_oberzentrum=True, changes_to_oberzentrum=0),\n",
       " 'ICE10': LineInfo(line='ICE10', connected_to_oberzentrum=True, changes_to_oberzentrum=0),\n",
       " 'RB61': LineInfo(line='RB61', connected_to_oberzentrum=True, changes_to_oberzentrum=0),\n",
       " 'ICE9': LineInfo(line='ICE9', connected_to_oberzentrum=True, changes_to_oberzentrum=0),\n",
       " 'IC1': LineInfo(line='IC1', connected_to_oberzentrum=True, changes_to_oberzentrum=0),\n",
       " 'RE18': LineInfo(line='RE18', connected_to_oberzentrum=True, changes_to_oberzentrum=0),\n",
       " 'RB60': LineInfo(line='RB60', connected_to_oberzentrum=True, changes_to_oberzentrum=0),\n",
       " 'IC7': LineInfo(line='IC7', connected_to_oberzentrum=True, changes_to_oberzentrum=0),\n",
       " 'RE2': LineInfo(line='RE2', connected_to_oberzentrum=True, changes_to_oberzentrum=0),\n",
       " 'RE50': LineInfo(line='RE50', connected_to_oberzentrum=True, changes_to_oberzentrum=0),\n",
       " 'IC2': LineInfo(line='IC2', connected_to_oberzentrum=True, changes_to_oberzentrum=0),\n",
       " 'IC4': LineInfo(line='IC4', connected_to_oberzentrum=True, changes_to_oberzentrum=0),\n",
       " 'IC3': LineInfo(line='IC3', connected_to_oberzentrum=True, changes_to_oberzentrum=0),\n",
       " 'RB34': LineInfo(line='RB34', connected_to_oberzentrum=True, changes_to_oberzentrum=0),\n",
       " 'RB33': LineInfo(line='RB33', connected_to_oberzentrum=True, changes_to_oberzentrum=0),\n",
       " 'SDG5': LineInfo(line='SDG5', connected_to_oberzentrum=True, changes_to_oberzentrum=1),\n",
       " 'SDG4': LineInfo(line='SDG4', connected_to_oberzentrum=True, changes_to_oberzentrum=1),\n",
       " 'SEV24': LineInfo(line='SEV24', connected_to_oberzentrum=True, changes_to_oberzentrum=2),\n",
       " 'ICE20': LineInfo(line='ICE20', connected_to_oberzentrum=True, changes_to_oberzentrum=0),\n",
       " 'ICE22': LineInfo(line='ICE22', connected_to_oberzentrum=True, changes_to_oberzentrum=0),\n",
       " 'ICE1': LineInfo(line='ICE1', connected_to_oberzentrum=True, changes_to_oberzentrum=0),\n",
       " 'ICE2': LineInfo(line='ICE2', connected_to_oberzentrum=True, changes_to_oberzentrum=0),\n",
       " 'ICE3': LineInfo(line='ICE3', connected_to_oberzentrum=True, changes_to_oberzentrum=0),\n",
       " 'ICE16': LineInfo(line='ICE16', connected_to_oberzentrum=True, changes_to_oberzentrum=0),\n",
       " 'ICE7': LineInfo(line='ICE7', connected_to_oberzentrum=True, changes_to_oberzentrum=0),\n",
       " 'ICE17': LineInfo(line='ICE17', connected_to_oberzentrum=True, changes_to_oberzentrum=0),\n",
       " 'RE42': LineInfo(line='RE42', connected_to_oberzentrum=True, changes_to_oberzentrum=0),\n",
       " 'IC17': LineInfo(line='IC17', connected_to_oberzentrum=True, changes_to_oberzentrum=0),\n",
       " 'IC16': LineInfo(line='IC16', connected_to_oberzentrum=True, changes_to_oberzentrum=0),\n",
       " 'ICE19': LineInfo(line='ICE19', connected_to_oberzentrum=True, changes_to_oberzentrum=0),\n",
       " 'ICE18': LineInfo(line='ICE18', connected_to_oberzentrum=True, changes_to_oberzentrum=0),\n",
       " 'IC22': LineInfo(line='IC22', connected_to_oberzentrum=True, changes_to_oberzentrum=0),\n",
       " 'RB20': LineInfo(line='RB20', connected_to_oberzentrum=True, changes_to_oberzentrum=0),\n",
       " 'IC23': LineInfo(line='IC23', connected_to_oberzentrum=True, changes_to_oberzentrum=0),\n",
       " 'RE17': LineInfo(line='RE17', connected_to_oberzentrum=True, changes_to_oberzentrum=0),\n",
       " 'ICE5': LineInfo(line='ICE5', connected_to_oberzentrum=True, changes_to_oberzentrum=0),\n",
       " 'ICE12': LineInfo(line='ICE12', connected_to_oberzentrum=True, changes_to_oberzentrum=0),\n",
       " 'ICE21': LineInfo(line='ICE21', connected_to_oberzentrum=True, changes_to_oberzentrum=0),\n",
       " 'ICE15': LineInfo(line='ICE15', connected_to_oberzentrum=True, changes_to_oberzentrum=0),\n",
       " 'ICE6': LineInfo(line='ICE6', connected_to_oberzentrum=True, changes_to_oberzentrum=0),\n",
       " 'RE10': LineInfo(line='RE10', connected_to_oberzentrum=True, changes_to_oberzentrum=0),\n",
       " 'ICE23': LineInfo(line='ICE23', connected_to_oberzentrum=True, changes_to_oberzentrum=0),\n",
       " 'FLX35': LineInfo(line='FLX35', connected_to_oberzentrum=True, changes_to_oberzentrum=0),\n",
       " 'RB113': LineInfo(line='RB113', connected_to_oberzentrum=True, changes_to_oberzentrum=0),\n",
       " 'ICE11': LineInfo(line='ICE11', connected_to_oberzentrum=True, changes_to_oberzentrum=0),\n",
       " 'ICE4': LineInfo(line='ICE4', connected_to_oberzentrum=True, changes_to_oberzentrum=0),\n",
       " 'ICE13': LineInfo(line='ICE13', connected_to_oberzentrum=True, changes_to_oberzentrum=0),\n",
       " 'ICE14': LineInfo(line='ICE14', connected_to_oberzentrum=True, changes_to_oberzentrum=0),\n",
       " 'ICE8': LineInfo(line='ICE8', connected_to_oberzentrum=True, changes_to_oberzentrum=0),\n",
       " 'RB110': LineInfo(line='RB110', connected_to_oberzentrum=True, changes_to_oberzentrum=0),\n",
       " 'SEV11': LineInfo(line='SEV11', connected_to_oberzentrum=True, changes_to_oberzentrum=0),\n",
       " 'SEV7': LineInfo(line='SEV7', connected_to_oberzentrum=True, changes_to_oberzentrum=0),\n",
       " 'KD2': LineInfo(line='KD2', connected_to_oberzentrum=True, changes_to_oberzentrum=0),\n",
       " 'SEV8': LineInfo(line='SEV8', connected_to_oberzentrum=True, changes_to_oberzentrum=0),\n",
       " 'SEV4': LineInfo(line='SEV4', connected_to_oberzentrum=True, changes_to_oberzentrum=0),\n",
       " 'R1': LineInfo(line='R1', connected_to_oberzentrum=True, changes_to_oberzentrum=0),\n",
       " 'RB65': LineInfo(line='RB65', connected_to_oberzentrum=True, changes_to_oberzentrum=0),\n",
       " 'SEV5': LineInfo(line='SEV5', connected_to_oberzentrum=True, changes_to_oberzentrum=0),\n",
       " 'KD1': LineInfo(line='KD1', connected_to_oberzentrum=True, changes_to_oberzentrum=0),\n",
       " 'KD3': LineInfo(line='KD3', connected_to_oberzentrum=True, changes_to_oberzentrum=0),\n",
       " 'SEV6': LineInfo(line='SEV6', connected_to_oberzentrum=True, changes_to_oberzentrum=0),\n",
       " 'SEV17': LineInfo(line='SEV17', connected_to_oberzentrum=True, changes_to_oberzentrum=1),\n",
       " 'SEV16': LineInfo(line='SEV16', connected_to_oberzentrum=True, changes_to_oberzentrum=1),\n",
       " 'TLL7': LineInfo(line='TLL7', connected_to_oberzentrum=True, changes_to_oberzentrum=1),\n",
       " 'SEV15': LineInfo(line='SEV15', connected_to_oberzentrum=True, changes_to_oberzentrum=1),\n",
       " 'SEV18': LineInfo(line='SEV18', connected_to_oberzentrum=True, changes_to_oberzentrum=1),\n",
       " 'SOE1': LineInfo(line='SOE1', connected_to_oberzentrum=True, changes_to_oberzentrum=1),\n",
       " 'SEV12': LineInfo(line='SEV12', connected_to_oberzentrum=True, changes_to_oberzentrum=1),\n",
       " 'SOE2': LineInfo(line='SOE2', connected_to_oberzentrum=True, changes_to_oberzentrum=1),\n",
       " 'SEV13': LineInfo(line='SEV13', connected_to_oberzentrum=True, changes_to_oberzentrum=1),\n",
       " 'SEV14': LineInfo(line='SEV14', connected_to_oberzentrum=True, changes_to_oberzentrum=1),\n",
       " 'SEV1': LineInfo(line='SEV1', connected_to_oberzentrum=True, changes_to_oberzentrum=0),\n",
       " 'SEV2': LineInfo(line='SEV2', connected_to_oberzentrum=True, changes_to_oberzentrum=0),\n",
       " 'C11': LineInfo(line='C11', connected_to_oberzentrum=True, changes_to_oberzentrum=0),\n",
       " 'SEV3': LineInfo(line='SEV3', connected_to_oberzentrum=True, changes_to_oberzentrum=1),\n",
       " 'CB92': LineInfo(line='CB92', connected_to_oberzentrum=True, changes_to_oberzentrum=1),\n",
       " 'SDG3': LineInfo(line='SDG3', connected_to_oberzentrum=True, changes_to_oberzentrum=1),\n",
       " 'SDG2': LineInfo(line='SDG2', connected_to_oberzentrum=True, changes_to_oberzentrum=1),\n",
       " 'SDG1': LineInfo(line='SDG1', connected_to_oberzentrum=True, changes_to_oberzentrum=1),\n",
       " 'RB64': LineInfo(line='RB64', connected_to_oberzentrum=True, changes_to_oberzentrum=0),\n",
       " 'SEV21': LineInfo(line='SEV21', connected_to_oberzentrum=True, changes_to_oberzentrum=0),\n",
       " 'SEV19': LineInfo(line='SEV19', connected_to_oberzentrum=True, changes_to_oberzentrum=1),\n",
       " 'SEV25': LineInfo(line='SEV25', connected_to_oberzentrum=True, changes_to_oberzentrum=1),\n",
       " 'SEV20': LineInfo(line='SEV20', connected_to_oberzentrum=True, changes_to_oberzentrum=1)}"
      ]
     },
     "execution_count": 16,
     "metadata": {},
     "output_type": "execute_result"
    }
   ],
   "source": [
    "line_graph.nodes"
   ]
  }
 ],
 "metadata": {
  "kernelspec": {
   "display_name": "Python 3",
   "language": "python",
   "name": "python3"
  },
  "language_info": {
   "codemirror_mode": {
    "name": "ipython",
    "version": 3
   },
   "file_extension": ".py",
   "mimetype": "text/x-python",
   "name": "python",
   "nbconvert_exporter": "python",
   "pygments_lexer": "ipython3",
   "version": "3.7.7"
  }
 },
 "nbformat": 4,
 "nbformat_minor": 4
}
